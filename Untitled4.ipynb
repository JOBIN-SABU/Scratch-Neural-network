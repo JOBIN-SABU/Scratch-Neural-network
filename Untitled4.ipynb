{
  "nbformat": 4,
  "nbformat_minor": 0,
  "metadata": {
    "colab": {
      "provenance": []
    },
    "kernelspec": {
      "name": "python3",
      "display_name": "Python 3"
    },
    "language_info": {
      "name": "python"
    }
  },
  "cells": [
    {
      "cell_type": "code",
      "source": [
        "import numpy as np\n",
        "from sklearn.datasets import load_iris\n",
        "from sklearn.preprocessing import StandardScaler"
      ],
      "metadata": {
        "id": "6ZZPc4E0E65h"
      },
      "execution_count": null,
      "outputs": []
    },
    {
      "cell_type": "code",
      "execution_count": null,
      "metadata": {
        "id": "tsAbFvkcrJD4"
      },
      "outputs": [],
      "source": [
        "class Neuron:\n",
        "    def __init__(self, n_inputs):\n",
        "        self.W = np.random.randn(1, n_inputs)\n",
        "        self.b = np.zeros(1)\n",
        "\n",
        "    def activation_function(self, inputs):\n",
        "        Z = np.dot(self.W, inputs) + self.b\n",
        "        S = 1 / (1 + np.exp(-Z))\n",
        "        return S, Z\n",
        "\n",
        "    def predict(self, inputs):\n",
        "        S, _ = self.activation_function(inputs)\n",
        "        return (S > 0.5).astype(int)\n",
        "\n",
        "    def train_step(self, inputs, target, lr=0.01):\n",
        "        # Forward pass\n",
        "        S, Z = self.activation_function(inputs)\n",
        "\n",
        "        # Gradients\n",
        "        dL_dS = (S - target)\n",
        "        dS_dZ = S * (1 - S)\n",
        "        dL_dZ = dL_dS * dS_dZ\n",
        "        dW = dL_dZ * inputs\n",
        "        db = dL_dZ\n",
        "\n",
        "        # Update\n",
        "        self.W -= lr * dW.reshape(1, -1)\n",
        "        self.b -= lr * db\n",
        "\n",
        "        return float(0.5 * (S - target) ** 2)"
      ]
    },
    {
      "cell_type": "code",
      "source": [
        "# ===== Load Dataset =====\n",
        "iris = load_iris()\n",
        "X = iris.data[:100, :2]\n",
        "y = iris.target[:100]\n",
        "\n",
        "# Normalize features\n",
        "scaler = StandardScaler()\n",
        "X = scaler.fit_transform(X)\n",
        "\n",
        "# ===== Train =====\n",
        "neuron = Neuron(n_inputs=2)\n",
        "\n",
        "epochs = 1000\n",
        "for epoch in range(epochs):\n",
        "    total_loss = 0\n",
        "    for i in range(len(X)):\n",
        "        total_loss += neuron.train_step(X[i], y[i], lr=0.01)\n",
        "    if epoch % 100 == 0:\n",
        "        print(f\"Epoch {epoch}, Loss: {total_loss:.4f}\")\n",
        "\n",
        "# ===== Test Accuracy =====\n",
        "preds = np.array([neuron.predict(x) for x in X]).flatten()\n",
        "acc = np.mean(preds == y)\n",
        "print(f\"Final Accuracy: {acc*100:.2f}%\")"
      ],
      "metadata": {
        "id": "3rPucgbeYk61",
        "colab": {
          "base_uri": "https://localhost:8080/"
        },
        "outputId": "b5bde594-9cdf-442a-cf64-05950b3ea76c"
      },
      "execution_count": null,
      "outputs": [
        {
          "output_type": "stream",
          "name": "stderr",
          "text": [
            "/tmp/ipython-input-3503504034.py:30: DeprecationWarning: Conversion of an array with ndim > 0 to a scalar is deprecated, and will error in future. Ensure you extract a single element from your array before performing this operation. (Deprecated NumPy 1.25.)\n",
            "  return float(0.5 * (S - target) ** 2)\n"
          ]
        },
        {
          "output_type": "stream",
          "name": "stdout",
          "text": [
            "Epoch 0, Loss: 10.4203\n",
            "Epoch 100, Loss: 1.0491\n",
            "Epoch 200, Loss: 0.7160\n",
            "Epoch 300, Loss: 0.5711\n",
            "Epoch 400, Loss: 0.4849\n",
            "Epoch 500, Loss: 0.4264\n",
            "Epoch 600, Loss: 0.3833\n",
            "Epoch 700, Loss: 0.3499\n",
            "Epoch 800, Loss: 0.3231\n",
            "Epoch 900, Loss: 0.3010\n",
            "Final Accuracy: 100.00%\n"
          ]
        }
      ]
    },
    {
      "cell_type": "code",
      "source": [],
      "metadata": {
        "id": "2XZEr_ohyIhw"
      },
      "execution_count": null,
      "outputs": []
    }
  ]
}